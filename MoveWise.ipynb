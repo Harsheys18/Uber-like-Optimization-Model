{
 "cells": [
  {
   "cell_type": "markdown",
   "metadata": {
    "id": "rVkQtIxgE9se"
   },
   "source": [
    "#MoveWise"
   ]
  },
  {
   "cell_type": "markdown",
   "metadata": {
    "id": "zkB16L1mFCgp"
   },
   "source": [
    "#### We created a dynamic pricing optimization model using CVXPY to assign passengers to drivers, minimizing cost and distance while maximizing revenue. The model incorporates historical ride costs, simulated distances, and potential revenue for each passenger-driver pair. Constraints ensure each passenger is assigned to exactly one driver, and each driver can serve at most one passenger. The optimization problem is solved using the SCIPY solver. Finally, the optimized assignments and details for each passenger-driver pair are printed, including cost, distance, and revenue information."
   ]
  },
  {
   "cell_type": "markdown",
   "metadata": {
    "id": "N65-azJ-FIIn"
   },
   "source": [
    "### Importing data"
   ]
  },
  {
   "cell_type": "code",
   "execution_count": 68,
   "metadata": {},
   "outputs": [
    {
     "name": "stdout",
     "output_type": "stream",
     "text": [
      "Requirement already satisfied: cvxpy in c:\\users\\ananya\\anaconda3\\lib\\site-packages (1.6.0)\n",
      "Requirement already satisfied: osqp>=0.6.2 in c:\\users\\ananya\\anaconda3\\lib\\site-packages (from cvxpy) (0.6.7.post3)\n",
      "Requirement already satisfied: clarabel>=0.5.0 in c:\\users\\ananya\\anaconda3\\lib\\site-packages (from cvxpy) (0.9.0)\n",
      "Requirement already satisfied: scs>=3.2.4.post1 in c:\\users\\ananya\\anaconda3\\lib\\site-packages (from cvxpy) (3.2.7)\n",
      "Requirement already satisfied: numpy>=1.20 in c:\\users\\ananya\\anaconda3\\lib\\site-packages (from cvxpy) (1.24.3)\n",
      "Requirement already satisfied: scipy>=1.1.0 in c:\\users\\ananya\\anaconda3\\lib\\site-packages (from cvxpy) (1.10.1)\n",
      "Requirement already satisfied: qdldl in c:\\users\\ananya\\anaconda3\\lib\\site-packages (from osqp>=0.6.2->cvxpy) (0.1.7.post4)\n",
      "Note: you may need to restart the kernel to use updated packages.\n"
     ]
    }
   ],
   "source": [
    "pip install cvxpy"
   ]
  },
  {
   "cell_type": "code",
   "execution_count": 151,
   "metadata": {
    "colab": {
     "base_uri": "https://localhost:8080/"
    },
    "id": "ILkaxrqdE60W",
    "outputId": "db9908c6-b470-447b-854c-731f79c4a912"
   },
   "outputs": [],
   "source": [
    "import cvxpy as cp\n",
    "import pandas as pd\n",
    "import numpy as np\n",
    "from geopy.distance import geodesic\n",
    "\n",
    "# Location weights (assigning weights for different areas)\n",
    "location_weights = {\n",
    "    \"Andheri\": 0.1, \"Bandra\": 0.1, \"Churchgate\": 0.05, \"Colaba\": 0.05, \"Dadar\": 0.1,\n",
    "    \"Goregaon\": 0.05, \"Kalyan\": 0.05, \"Lonavala\": 0.02, \"Malad\": 0.08, \"Mulund\": 0.05,\n",
    "    \"Navi Mumbai\": 0.07, \"Panvel\": 0.03, \"Powai\": 0.06, \"Thane\": 0.08, \"Virar\": 0.03,\n",
    "    \"Borivali\": 0.05, \"Kurla\": 0.06, \"Vashi\": 0.04, \"Jogeshwari\": 0.03, \"Versova\": 0.04\n",
    "}\n",
    "\n",
    "# Normalize weights to ensure they sum to 1\n",
    "normalized_weights = {k: v / sum(location_weights.values()) for k, v in location_weights.items()}\n",
    "\n",
    "# Coordinates for each location (latitude, longitude)\n",
    "location_coordinates = {\n",
    "    \"Andheri\": (19.1349, 72.8410),\n",
    "    \"Bandra\": (19.0598, 72.8258),\n",
    "    \"Churchgate\": (18.9372, 72.8258),\n",
    "    \"Colaba\": (18.9351, 72.8194),\n",
    "    \"Dadar\": (19.0185, 72.8340),\n",
    "    \"Goregaon\": (19.1508, 72.8560),\n",
    "    \"Kalyan\": (19.2463, 73.1350),\n",
    "    \"Lonavala\": (18.7499, 73.4133),\n",
    "    \"Malad\": (19.1894, 72.8471),\n",
    "    \"Mulund\": (19.1907, 72.9467),\n",
    "    \"Navi Mumbai\": (19.0330, 73.0297),\n",
    "    \"Panvel\": (18.9864, 73.1107),\n",
    "    \"Powai\": (19.1245, 72.8996),\n",
    "    \"Thane\": (19.2183, 72.9781),\n",
    "    \"Virar\": (19.3060, 72.8279),\n",
    "    \"Borivali\": (19.2393, 72.8505),\n",
    "    \"Kurla\": (19.0620, 72.8698),\n",
    "    \"Vashi\": (19.0760, 72.9860),\n",
    "    \"Jogeshwari\": (19.1476, 72.8423),\n",
    "    \"Versova\": (19.1261, 72.8347)\n",
    "}\n",
    "\n",
    "# Number of rides to generate\n",
    "n_rides = 20\n",
    "\n",
    "# Generate random start and end locations based on normalized weights\n",
    "start_locations = np.random.choice(\n",
    "    list(normalized_weights.keys()), size=n_rides, p=list(normalized_weights.values())\n",
    ")\n",
    "end_locations = np.random.choice(\n",
    "    list(normalized_weights.keys()), size=n_rides, p=list(normalized_weights.values())\n",
    ")\n",
    "\n",
    "# Generate dynamic pricing data\n",
    "dynamic_pricing_data = {\n",
    "    \"Number_of_Riders\": np.random.randint(30, 100, size=20),\n",
    "    \"Number_of_Drivers\": np.random.randint(20, 50, size=20),\n",
    "    \"Location_Category\": np.random.choice([\"Urban\", \"Suburban\", \"Rural\"], size=20),\n",
    "    \"Customer_Loyalty_Status\": np.random.choice([\"Silver\", \"Gold\", \"Regular\"], size=20),\n",
    "    \"Number_of_Past_Rides\": np.random.randint(0, 100, size=20),\n",
    "    \"Average_Ratings\": np.random.uniform(3.5, 5.0, size=20),\n",
    "    \"Time_of_Booking\": np.random.choice([\"Morning\", \"Afternoon\", \"Evening\", \"Night\"], size=20),\n",
    "    \"Vehicle_Type\": np.random.choice([\"Premium\", \"Economy\"], size=20),\n",
    "    \"Expected_Ride_Duration\": np.random.randint(30, 150, size=20),\n",
    "    \"Historical_Cost_of_Ride\": np.random.uniform(100, 600, size=20),\n",
    "    \"Riders_to_Drivers_Ratio\": lambda data: data[\"Number_of_Riders\"] / data[\"Number_of_Drivers\"],\n",
    "    \"High_Demand_Area\": lambda data: np.where(data[\"Number_of_Riders\"] > 80, 1, 0),\n",
    "    \"Peak_Hours\": lambda data: np.where(np.isin(data[\"Time_of_Booking\"], [\"Morning\", \"Evening\"]), 1, 0),\n",
    "    \"Loyalty_Score\": lambda data: np.select(\n",
    "        [\n",
    "            data[\"Customer_Loyalty_Status\"] == \"Gold\",\n",
    "            data[\"Customer_Loyalty_Status\"] == \"Silver\",\n",
    "            data[\"Customer_Loyalty_Status\"] == \"Regular\"\n",
    "        ],\n",
    "        [3, 2, 1],\n",
    "        default=0\n",
    "    ),\n",
    "    \"Cost_per_Minute\": lambda data: data[\"Historical_Cost_of_Ride\"] / data[\"Expected_Ride_Duration\"],\n",
    "    \"Estimated_Allocation_Time\": lambda data: np.select(\n",
    "        [\n",
    "            data[\"Location_Category\"] == \"Urban\",\n",
    "            data[\"Location_Category\"] == \"Suburban\",\n",
    "            data[\"Location_Category\"] == \"Rural\"\n",
    "        ],\n",
    "        [np.random.uniform(2, 5, size=20), np.random.uniform(5, 10, size=20), np.random.uniform(10, 20, size=20)]\n",
    "    ),\n",
    "    \"Weighted_Past_Ride_Score\": lambda data: data[\"Number_of_Past_Rides\"] * data[\"Average_Ratings\"],\n",
    "    \"Premium_Customer\": lambda data: np.where(\n",
    "        (data[\"Vehicle_Type\"] == \"Premium\") & (data[\"Customer_Loyalty_Status\"] == \"Gold\"),\n",
    "        1,\n",
    "        0\n",
    "    ),\n",
    "    \"Environmental_Impact_Score\": lambda data: np.where(\n",
    "        data[\"Vehicle_Type\"] == \"Premium\",\n",
    "        np.random.uniform(3, 5, size=20),\n",
    "        np.random.uniform(1, 3, size=20)\n",
    "    ),\n",
    "    \"Distance_Factor\": lambda data: data[\"Expected_Ride_Duration\"] * np.select(\n",
    "        [\n",
    "            data[\"Location_Category\"] == \"Urban\",\n",
    "            data[\"Location_Category\"] == \"Suburban\",\n",
    "            data[\"Location_Category\"] == \"Rural\"\n",
    "        ],\n",
    "        [1.0, 1.2, 1.5]\n",
    "    )\n",
    "}\n",
    "\n",
    "# Adding new features\n",
    "dynamic_pricing_data.update({\n",
    "    # Real-Time Features\n",
    "    \"Weather_Conditions\": np.random.choice([\"Clear\", \"Rainy\", \"Stormy\"], size=n_rides, p=[0.7, 0.2, 0.1]),\n",
    "    \"Traffic_Density_Index\": np.random.uniform(0, 10, size=n_rides),\n",
    "\n",
    "    # Demand Features\n",
    "    \"Weekend\": np.random.choice([0, 1], size=n_rides, p=[0.7, 0.3]),  # Assuming 30% of rides occur on weekends\n",
    "    \"Surge_Factor\": np.random.uniform(1, 3, size=n_rides),  # Surge pricing multiplier\n",
    "\n",
    "    # Driver Availability\n",
    "    \"Driver_Response_Time\": np.random.uniform(5, 60, size=n_rides),  # Response time in seconds\n",
    "    \"Idle_Drivers\": np.random.randint(5, 20, size=n_rides),  # Idle drivers count\n",
    "\n",
    "    # Location-Based Features\n",
    "    \"Distance_Between_Start_End\": np.random.uniform(1, 30, size=n_rides),  # Distance in km\n",
    "    \"Location_Popularity_Score\": np.random.uniform(0, 1, size=n_rides),  # Normalized popularity score\n",
    "})\n",
    "\n",
    "dynamic_pricing_data[\"Start_Location\"] = start_locations\n",
    "dynamic_pricing_data[\"End_Location\"] = end_locations\n",
    "\n",
    "df = pd.DataFrame(dynamic_pricing_data)"
   ]
  },
  {
   "cell_type": "code",
   "execution_count": 153,
   "metadata": {},
   "outputs": [],
   "source": [
    "# Assigning drivers to nearest locations\n",
    "def assign_driver_to_location(driver_coord):\n",
    "    nearest_location = None\n",
    "    min_distance = float('inf')\n",
    "\n",
    "    for location, loc_coord in location_coordinates.items():\n",
    "        distance = geodesic(driver_coord, loc_coord).km\n",
    "        if distance < min_distance:\n",
    "            min_distance = distance\n",
    "            nearest_location = location\n",
    "\n",
    "    return nearest_location, min_distance"
   ]
  },
  {
   "cell_type": "code",
   "execution_count": 155,
   "metadata": {},
   "outputs": [],
   "source": [
    "def assign_to_areas(num_points, location_weights):\n",
    "    areas = list(location_weights.keys())\n",
    "    probabilities = list(location_weights.values())\n",
    "    return random.choices(areas, probabilities, k=num_points)"
   ]
  },
  {
   "cell_type": "markdown",
   "metadata": {
    "id": "Ka9r4nmdF-Tc"
   },
   "source": [
    "### Creating Variables"
   ]
  },
  {
   "cell_type": "code",
   "execution_count": 158,
   "metadata": {
    "id": "0L2z5GNOFaOH"
   },
   "outputs": [],
   "source": [
    "# Locations (no longer needed for forecasting, keeping them for distance calculation)\n",
    "locations = [\"Andheri\", \"Bandra\", \"Churchgate\", \"Colaba\", \"Dadar\", \"Goregaon\", \"Kalyan\", \"Lonavala\", \"Malad\", \"Mulund\",\n",
    "             \"Navi Mumbai\", \"Panvel\", \"Powai\", \"Thane\", \"Virar\", \"Borivali\", \"Kurla\", \"Vashi\", \"Jogeshwari\", \"Versova\"]\n",
    "\n",
    "# Number of passengers and drivers\n",
    "num_passengers = len(dynamic_pricing_data[\"Number_of_Riders\"])\n",
    "num_drivers = len(locations)  # Assuming there are drivers in all locations\n",
    "\n",
    "# Create variables tij for assignment (passenger i to driver j)\n",
    "tij = cp.Variable((num_passengers, num_drivers), boolean=True)"
   ]
  },
  {
   "cell_type": "markdown",
   "metadata": {
    "id": "pMKRwHhyGBLw"
   },
   "source": [
    "### Objective Functions"
   ]
  },
  {
   "cell_type": "code",
   "execution_count": 161,
   "metadata": {
    "id": "H58z_C1wF4-p"
   },
   "outputs": [
    {
     "name": "stderr",
     "output_type": "stream",
     "text": [
      "C:\\Users\\ANANYA\\anaconda3\\Lib\\site-packages\\cvxpy\\expressions\\expression.py:873: FutureWarning: \n",
      "    You didn't specify the order of the reshape expression. The default order\n",
      "    used in CVXPY is Fortran ('F') order. This default will change to match NumPy's\n",
      "    default order ('C') in a future version of CVXPY.\n",
      "    To suppress this warning, please specify the order explicitly.\n",
      "    \n",
      "  warnings.warn(reshape_order_warning, FutureWarning)\n"
     ]
    }
   ],
   "source": [
    "historical_costs = dynamic_pricing_data[\"Historical_Cost_of_Ride\"]\n",
    "\n",
    "# Reshape historical costs into a column vector for element-wise multiplication\n",
    "historical_costs_matrix = cp.Constant(historical_costs).reshape((num_passengers, 1))\n",
    "\n",
    "# Element-wise multiplication of tij and historical costs (to calculate the total cost)\n",
    "cost = cp.multiply(tij, historical_costs_matrix)\n",
    "\n",
    "# Generate random coordinates for passengers and drivers within a specific range (example: Mumbai region)\n",
    "def generate_random_coordinates(num_points, lat_range, lon_range):\n",
    "    return [(random.uniform(lat_range[0], lat_range[1]), random.uniform(lon_range[0], lon_range[1])) for _ in range(num_points)]\n",
    "\n",
    "# Simulate random coordinates for drivers and passengers\n",
    "driver_area_assignment = assign_to_areas(num_drivers, normalized_weights)\n",
    "passenger_coordinates = generate_random_coordinates(num_passengers, (19.0, 19.5), (72.5, 73.0))\n",
    "\n",
    "# Calculate distances between each passenger and driver using OSRM API\n",
    "def get_osrm_route(start_coords, end_coords):\n",
    "    \"\"\"\n",
    "    Fetches distance and travel time using OSRM routing service.\n",
    "\n",
    "    Parameters:\n",
    "        start_coords (tuple): (latitude, longitude) of the start point.\n",
    "        end_coords (tuple): (latitude, longitude) of the end point.\n",
    "\n",
    "    Returns:\n",
    "        dict: Distance in kilometers, travel time in minutes.\n",
    "    \"\"\"\n",
    "    # OSRM public API endpoint\n",
    "    base_url = \"https://router.project-osrm.org/route/v1/driving\"\n",
    "    \n",
    "    # Format coordinates for the API\n",
    "    coordinates = f\"{start_coords[1]},{start_coords[0]};{end_coords[1]},{end_coords[0]}\"\n",
    "    \n",
    "    # API request\n",
    "    response = requests.get(f\"{base_url}/{coordinates}\", params={\"overview\": \"false\"})\n",
    "    data = response.json()\n",
    "    \n",
    "    if response.status_code == 200 and data.get(\"routes\"):\n",
    "        # Extract distance (meters) and duration (seconds)\n",
    "        distance_m = data[\"routes\"][0][\"distance\"]\n",
    "        duration_sec = data[\"routes\"][0][\"duration\"]\n",
    "        \n",
    "        # Convert to desired units\n",
    "        distance_km = distance_m / 1000  # meters to kilometers\n",
    "        duration_min = duration_sec / 60  # seconds to minutes\n",
    "        \n",
    "        return {\n",
    "            \"distance_km\": distance_km,\n",
    "            \"travel_time_minutes\": duration_min\n",
    "        }\n",
    "    else:\n",
    "        raise ValueError(f\"Error fetching route: {data.get('message', 'Unknown error')}\")\n",
    "\n",
    "# Initialize a distance matrix between each passenger and driver\n",
    "dij = np.zeros((num_passengers, num_drivers))\n",
    "\n",
    "for i in range(num_passengers):\n",
    "    for j in range(num_drivers):\n",
    "        start_coords = passenger_coordinates[i]\n",
    "        end_coords = driver_coordinates[j]\n",
    "        try:\n",
    "            route_info = get_osrm_route(start_coords, end_coords)\n",
    "            distance_matrix[i, j] = route_info[\"distance_km\"]\n",
    "        except ValueError as e:\n",
    "            print(f\"Error for passenger {i} and driver {j}: {e}\")\n",
    "            dij[i, j] = np.nan  # Mark as NaN if the route cannot be fetched\n",
    "\n",
    "# Distance cost (minimize distance)\n",
    "distance_cost = cp.sum(cp.multiply(tij, dij))\n",
    "\n",
    "# Example revenue matrix (randomly generated for this example)\n",
    "revenue_matrix = np.random.randint(50, 200, size=(num_passengers, num_drivers))  # Revenue per passenger-driver pair\n",
    "\n",
    "# Revenue cost (maximize revenue)\n",
    "revenue_obj = cp.sum(cp.multiply(tij, revenue_matrix))\n",
    "\n",
    "# Objective function weights (adjust as necessary)\n",
    "weight_cost = 0.3\n",
    "weight_distance = 0.3\n",
    "weight_revenue = 0.4\n",
    "\n",
    "# New combined objective function (maximize revenue and minimize cost and distance)\n",
    "objective = cp.Minimize(\n",
    "    weight_cost * cp.sum(cost) + weight_distance * distance_cost - weight_revenue * revenue_obj\n",
    ")"
   ]
  },
  {
   "cell_type": "markdown",
   "metadata": {
    "id": "sTV7m9fRGN2p"
   },
   "source": [
    "### Constraints"
   ]
  },
  {
   "cell_type": "code",
   "execution_count": 166,
   "metadata": {
    "id": "sGiHylDTGJH6"
   },
   "outputs": [],
   "source": [
    "\n",
    "# Constraints: Each passenger must be assigned to exactly one driver\n",
    "constraints = []\n",
    "for p in range(num_passengers):\n",
    "    constraints.append(cp.sum(tij[p, :]) == 1)\n",
    "\n",
    "# Constraints: Each driver can have at most one passenger\n",
    "for d in range(num_drivers):\n",
    "    constraints.append(cp.sum(tij[:, d]) <= 1)\n"
   ]
  },
  {
   "cell_type": "markdown",
   "metadata": {
    "id": "DQUeuPf2GSSa"
   },
   "source": [
    "### Solving the Problem"
   ]
  },
  {
   "cell_type": "code",
   "execution_count": 169,
   "metadata": {
    "colab": {
     "base_uri": "https://localhost:8080/"
    },
    "id": "68g8EnDVGaIl",
    "outputId": "fd2a422b-9a89-4e1d-b4d7-f7d3ed07ab92"
   },
   "outputs": [
    {
     "name": "stdout",
     "output_type": "stream",
     "text": [
      "===============================================================================\n",
      "                                     CVXPY                                     \n",
      "                                     v1.6.0                                    \n",
      "===============================================================================\n",
      "(CVXPY) Nov 25 01:01:25 PM: Your problem has 400 variables, 40 constraints, and 0 parameters.\n",
      "(CVXPY) Nov 25 01:01:25 PM: It is compliant with the following grammars: DCP, DQCP\n",
      "(CVXPY) Nov 25 01:01:25 PM: (If you need to solve this problem multiple times, but with different data, consider using parameters.)\n",
      "(CVXPY) Nov 25 01:01:25 PM: CVXPY will first compile your problem; then, it will invoke a numerical solver to obtain a solution.\n",
      "(CVXPY) Nov 25 01:01:25 PM: Your problem is compiled with the CPP canonicalization backend.\n",
      "-------------------------------------------------------------------------------\n",
      "                                  Compilation                                  \n",
      "-------------------------------------------------------------------------------\n",
      "(CVXPY) Nov 25 01:01:25 PM: Compiling problem (target solver=SCIPY).\n",
      "(CVXPY) Nov 25 01:01:25 PM: Reduction chain: Dcp2Cone -> CvxAttr2Constr -> ConeMatrixStuffing -> SCIPY\n",
      "(CVXPY) Nov 25 01:01:25 PM: Applying reduction Dcp2Cone\n",
      "(CVXPY) Nov 25 01:01:25 PM: Applying reduction CvxAttr2Constr\n",
      "(CVXPY) Nov 25 01:01:25 PM: Applying reduction ConeMatrixStuffing\n",
      "(CVXPY) Nov 25 01:01:25 PM: Applying reduction SCIPY\n",
      "(CVXPY) Nov 25 01:01:25 PM: Finished problem compilation (took 1.443e-01 seconds).\n",
      "-------------------------------------------------------------------------------\n",
      "                                Numerical solver                               \n",
      "-------------------------------------------------------------------------------\n",
      "(CVXPY) Nov 25 01:01:25 PM: Invoking solver SCIPY  to obtain a solution.\n",
      "Solver terminated with message: Optimization terminated successfully. (HiGHS Status 7: Optimal)\n",
      "-------------------------------------------------------------------------------\n",
      "                                    Summary                                    \n",
      "-------------------------------------------------------------------------------\n",
      "(CVXPY) Nov 25 01:01:25 PM: Problem status: optimal\n",
      "(CVXPY) Nov 25 01:01:25 PM: Optimal value: 8.127e+02\n",
      "(CVXPY) Nov 25 01:01:25 PM: Compilation took 1.443e-01 seconds\n",
      "(CVXPY) Nov 25 01:01:25 PM: Solver (including time spent in interface) took 6.549e-02 seconds\n",
      "\n",
      "Optimized Objective Value: 812.7195834523452\n",
      "Passenger 0 is assigned to Driver 15 (Location: Borivali) with Distance Cost: 54.9551 and Revenue: 176\n",
      "  - Passenger 0: Rural | Loyalty: Gold | Past Rides: 92 | Avg Rating: 4.92 | Booking Time: Afternoon | Duration: 126 min | Cost: 557.02\n",
      "  - Vehicle Type: Premium\n",
      "Passenger 1 is assigned to Driver 16 (Location: Kurla) with Distance Cost: 10.1296 and Revenue: 182\n",
      "  - Passenger 1: Urban | Loyalty: Regular | Past Rides: 58 | Avg Rating: 4.10 | Booking Time: Morning | Duration: 83 min | Cost: 255.91\n",
      "  - Vehicle Type: Economy\n",
      "Passenger 2 is assigned to Driver 12 (Location: Powai) with Distance Cost: 59.6908 and Revenue: 187\n",
      "  - Passenger 2: Suburban | Loyalty: Silver | Past Rides: 58 | Avg Rating: 4.01 | Booking Time: Evening | Duration: 38 min | Cost: 268.02\n",
      "  - Vehicle Type: Premium\n",
      "Passenger 3 is assigned to Driver 0 (Location: Andheri) with Distance Cost: 84.8017 and Revenue: 177\n",
      "  - Passenger 3: Urban | Loyalty: Silver | Past Rides: 73 | Avg Rating: 4.65 | Booking Time: Morning | Duration: 120 min | Cost: 387.06\n",
      "  - Vehicle Type: Premium\n",
      "Passenger 4 is assigned to Driver 7 (Location: Lonavala) with Distance Cost: 14.3454 and Revenue: 190\n",
      "  - Passenger 4: Rural | Loyalty: Gold | Past Rides: 99 | Avg Rating: 3.59 | Booking Time: Evening | Duration: 109 min | Cost: 440.38\n",
      "  - Vehicle Type: Economy\n",
      "Passenger 5 is assigned to Driver 18 (Location: Jogeshwari) with Distance Cost: 0.0 and Revenue: 193\n",
      "  - Passenger 5: Suburban | Loyalty: Silver | Past Rides: 2 | Avg Rating: 3.57 | Booking Time: Night | Duration: 86 min | Cost: 539.78\n",
      "  - Vehicle Type: Premium\n",
      "Passenger 6 is assigned to Driver 8 (Location: Malad) with Distance Cost: 64.46130000000001 and Revenue: 198\n",
      "  - Passenger 6: Suburban | Loyalty: Gold | Past Rides: 32 | Avg Rating: 4.30 | Booking Time: Afternoon | Duration: 105 min | Cost: 392.60\n",
      "  - Vehicle Type: Economy\n",
      "Passenger 7 is assigned to Driver 9 (Location: Mulund) with Distance Cost: 6.254 and Revenue: 191\n",
      "  - Passenger 7: Urban | Loyalty: Silver | Past Rides: 48 | Avg Rating: 3.80 | Booking Time: Night | Duration: 44 min | Cost: 324.59\n",
      "  - Vehicle Type: Premium\n",
      "Passenger 8 is assigned to Driver 13 (Location: Thane) with Distance Cost: 40.3381 and Revenue: 188\n",
      "  - Passenger 8: Urban | Loyalty: Gold | Past Rides: 19 | Avg Rating: 4.87 | Booking Time: Morning | Duration: 62 min | Cost: 129.98\n",
      "  - Vehicle Type: Economy\n",
      "Passenger 9 is assigned to Driver 14 (Location: Virar) with Distance Cost: 69.4987 and Revenue: 196\n",
      "  - Passenger 9: Suburban | Loyalty: Silver | Past Rides: 88 | Avg Rating: 4.01 | Booking Time: Afternoon | Duration: 44 min | Cost: 127.40\n",
      "  - Vehicle Type: Economy\n",
      "Passenger 10 is assigned to Driver 3 (Location: Colaba) with Distance Cost: 69.3337 and Revenue: 196\n",
      "  - Passenger 10: Urban | Loyalty: Gold | Past Rides: 85 | Avg Rating: 4.37 | Booking Time: Night | Duration: 116 min | Cost: 379.18\n",
      "  - Vehicle Type: Premium\n",
      "Passenger 11 is assigned to Driver 10 (Location: Navi Mumbai) with Distance Cost: 8.657200000000001 and Revenue: 196\n",
      "  - Passenger 11: Urban | Loyalty: Regular | Past Rides: 64 | Avg Rating: 4.26 | Booking Time: Night | Duration: 68 min | Cost: 545.74\n",
      "  - Vehicle Type: Premium\n",
      "Passenger 12 is assigned to Driver 19 (Location: Versova) with Distance Cost: 56.774699999999996 and Revenue: 198\n",
      "  - Passenger 12: Urban | Loyalty: Regular | Past Rides: 36 | Avg Rating: 4.28 | Booking Time: Evening | Duration: 93 min | Cost: 233.30\n",
      "  - Vehicle Type: Premium\n",
      "Passenger 13 is assigned to Driver 5 (Location: Goregaon) with Distance Cost: 14.0805 and Revenue: 188\n",
      "  - Passenger 13: Suburban | Loyalty: Gold | Past Rides: 90 | Avg Rating: 3.59 | Booking Time: Afternoon | Duration: 131 min | Cost: 385.26\n",
      "  - Vehicle Type: Economy\n",
      "Passenger 14 is assigned to Driver 2 (Location: Churchgate) with Distance Cost: 59.7865 and Revenue: 170\n",
      "  - Passenger 14: Suburban | Loyalty: Gold | Past Rides: 82 | Avg Rating: 3.91 | Booking Time: Evening | Duration: 144 min | Cost: 132.35\n",
      "  - Vehicle Type: Premium\n",
      "Passenger 15 is assigned to Driver 4 (Location: Dadar) with Distance Cost: 67.26889999999999 and Revenue: 197\n",
      "  - Passenger 15: Suburban | Loyalty: Gold | Past Rides: 17 | Avg Rating: 4.23 | Booking Time: Night | Duration: 127 min | Cost: 452.64\n",
      "  - Vehicle Type: Premium\n",
      "Passenger 16 is assigned to Driver 11 (Location: Panvel) with Distance Cost: 64.099 and Revenue: 188\n",
      "  - Passenger 16: Urban | Loyalty: Gold | Past Rides: 63 | Avg Rating: 3.98 | Booking Time: Evening | Duration: 73 min | Cost: 576.39\n",
      "  - Vehicle Type: Premium\n",
      "Passenger 17 is assigned to Driver 17 (Location: Vashi) with Distance Cost: 24.787599999999998 and Revenue: 188\n",
      "  - Passenger 17: Rural | Loyalty: Gold | Past Rides: 68 | Avg Rating: 4.95 | Booking Time: Afternoon | Duration: 84 min | Cost: 536.10\n",
      "  - Vehicle Type: Premium\n",
      "Passenger 18 is assigned to Driver 6 (Location: Kalyan) with Distance Cost: 71.19319999999999 and Revenue: 172\n",
      "  - Passenger 18: Suburban | Loyalty: Regular | Past Rides: 66 | Avg Rating: 4.36 | Booking Time: Night | Duration: 124 min | Cost: 537.99\n",
      "  - Vehicle Type: Economy\n",
      "Passenger 19 is assigned to Driver 1 (Location: Bandra) with Distance Cost: 87.05380000000001 and Revenue: 198\n",
      "  - Passenger 19: Rural | Loyalty: Regular | Past Rides: 28 | Avg Rating: 3.91 | Booking Time: Afternoon | Duration: 40 min | Cost: 532.70\n",
      "  - Vehicle Type: Premium\n"
     ]
    }
   ],
   "source": [
    "\n",
    "# Solve the optimization problem using CBC solver (or other solvers like SCIPY)\n",
    "problem = cp.Problem(objective, constraints)\n",
    "problem.solve(solver=cp.SCIPY, verbose=True)\n",
    "\n",
    "# Display the results\n",
    "print(f\"\\nOptimized Objective Value: {problem.value}\")\n",
    "assignments = []\n",
    "for p in range(num_passengers):\n",
    "    for d in range(num_drivers):\n",
    "        if tij.value[p, d] > 0.5:  # Binary solution (0 or 1)\n",
    "            assignments.append((p, d, distance_matrix[p][d], revenue_matrix[p][d]))\n",
    "            # Print detailed assignment information\n",
    "            passenger_info = f\"Passenger {p}: {dynamic_pricing_data['Location_Category'][p]} | \" \\\n",
    "                             f\"Loyalty: {dynamic_pricing_data['Customer_Loyalty_Status'][p]} | \" \\\n",
    "                             f\"Past Rides: {dynamic_pricing_data['Number_of_Past_Rides'][p]} | \" \\\n",
    "                             f\"Avg Rating: {dynamic_pricing_data['Average_Ratings'][p]:.2f} | \" \\\n",
    "                             f\"Booking Time: {dynamic_pricing_data['Time_of_Booking'][p]} | \" \\\n",
    "                             f\"Duration: {dynamic_pricing_data['Expected_Ride_Duration'][p]} min | \" \\\n",
    "                             f\"Cost: {dynamic_pricing_data['Historical_Cost_of_Ride'][p]:.2f}\"\n",
    "\n",
    "            driver_location = locations[d]\n",
    "            vehicle_type = dynamic_pricing_data[\"Vehicle_Type\"][p]\n",
    "            print(f\"Passenger {p} is assigned to Driver {d} (Location: {driver_location}) with Distance Cost: \"\n",
    "                  f\"{distance_matrix[p][d]} and Revenue: {revenue_matrix[p][d]}\")\n",
    "            print(f\"  - {passenger_info}\")\n",
    "            print(f\"  - Vehicle Type: {vehicle_type}\")"
   ]
  },
  {
   "cell_type": "code",
   "execution_count": 171,
   "metadata": {
    "colab": {
     "base_uri": "https://localhost:8080/",
     "height": 487
    },
    "id": "kJGBTlBpGdhl",
    "outputId": "eca87c82-d253-4884-fc89-a2ed728f8112"
   },
   "outputs": [
    {
     "data": {
      "image/png": "[encoded data removed]",
      "text/plain": [
       "<Figure size 640x480 with 1 Axes>"
      ]
     },
     "metadata": {},
     "output_type": "display_data"
    }
   ],
   "source": [
    "import matplotlib.pyplot as plt\n",
    "\n",
    "# Function to calculate total revenue for random assignment\n",
    "def calculate_random_total_revenue(revenue_matrix, num_passengers, num_drivers):\n",
    "    random_revenue = 0\n",
    "    # Random assignment (choose random driver for each passenger)\n",
    "    for p in range(num_passengers):\n",
    "        random_driver = np.random.randint(0, num_drivers)\n",
    "        random_revenue += revenue_matrix[p, random_driver]\n",
    "    return random_revenue\n",
    "\n",
    "# Calculate total revenue for random assignment\n",
    "random_revenue = calculate_random_total_revenue(revenue_matrix, num_passengers, num_drivers)\n",
    "\n",
    "# Calculate total revenue for optimized assignment\n",
    "optimized_revenue = np.sum([revenue_matrix[p, d] for p in range(num_passengers) for d in range(num_drivers) if tij.value[p, d] > 0.5])\n",
    "\n",
    "# Plot bar graph for revenue comparison\n",
    "labels = ['Total Revenue']\n",
    "random_values = [random_revenue]\n",
    "optimized_values = [optimized_revenue]\n",
    "\n",
    "x = np.arange(len(labels))  # Label positions\n",
    "\n",
    "fig, ax = plt.subplots()\n",
    "bar_width = 0.35\n",
    "\n",
    "# Plot bars for random and optimized revenue\n",
    "ax.bar(x - bar_width/2, random_values, bar_width, label='Random', color='b')\n",
    "ax.bar(x + bar_width/2, optimized_values, bar_width, label='Optimized', color='g')\n",
    "\n",
    "# Labeling the plot\n",
    "ax.set_xlabel('Metrics')\n",
    "ax.set_ylabel('Revenue')\n",
    "ax.set_title('Comparison of Random vs Optimized Revenue')\n",
    "ax.set_xticks(x)\n",
    "ax.set_xticklabels(labels)\n",
    "ax.legend()\n",
    "\n",
    "# Display the plot\n",
    "plt.tight_layout()\n",
    "plt.show()\n"
   ]
  },
  {
   "cell_type": "markdown",
   "metadata": {
    "id": "3BBltNc0GgrY"
   },
   "source": [
    "### Plots to check the optimization"
   ]
  },
  {
   "cell_type": "code",
   "execution_count": 174,
   "metadata": {
    "colab": {
     "base_uri": "https://localhost:8080/",
     "height": 487
    },
    "id": "_Mwil_03GqZ8",
    "outputId": "0d9818fb-150d-4238-bae8-20c17c229ae0"
   },
   "outputs": [
    {
     "data": {
      "image/png": "[encoded data removed]",
      "text/plain": [
       "<Figure size 640x480 with 1 Axes>"
      ]
     },
     "metadata": {},
     "output_type": "display_data"
    }
   ],
   "source": [
    "import matplotlib.pyplot as plt\n",
    "\n",
    "# Function to calculate the total distance cost for random assignment\n",
    "def calculate_random_distance_cost(distance_matrix, num_passengers, num_drivers):\n",
    "    random_distance_cost = 0\n",
    "    # Random assignment (choose random driver for each passenger)\n",
    "    for p in range(num_passengers):\n",
    "        random_driver = np.random.randint(0, num_drivers)\n",
    "        random_distance_cost += distance_matrix[p, random_driver]\n",
    "    return random_distance_cost\n",
    "\n",
    "# Calculate random total distance cost for random assignment\n",
    "random_distance_cost = calculate_random_distance_cost(distance_matrix, num_passengers, num_drivers)\n",
    "\n",
    "# Calculate the optimized total distance cost\n",
    "optimized_distance_cost = np.sum([distance_matrix[p, d] for p in range(num_passengers) for d in range(num_drivers) if tij.value[p, d] > 0.5])\n",
    "\n",
    "# Plot bar graph for optimized distance cost comparison\n",
    "labels = ['Distance Cost']\n",
    "random_values = [random_distance_cost]\n",
    "optimized_values = [optimized_distance_cost]\n",
    "\n",
    "x = np.arange(len(labels))  # Label positions\n",
    "\n",
    "fig, ax = plt.subplots()\n",
    "bar_width = 0.35\n",
    "\n",
    "# Plot bars for random and optimized distance costs\n",
    "ax.bar(x - bar_width/2, random_values, bar_width, label='Random', color='b')\n",
    "ax.bar(x + bar_width/2, optimized_values, bar_width, label='Optimized', color='g')\n",
    "\n",
    "# Labeling the plot\n",
    "ax.set_xlabel('Metrics')\n",
    "ax.set_ylabel('Values')\n",
    "ax.set_title('Comparison of Random vs Optimized Distance Cost')\n",
    "ax.set_xticks(x)\n",
    "ax.set_xticklabels(labels)\n",
    "ax.legend()\n",
    "\n",
    "# Display the plot\n",
    "plt.tight_layout()\n",
    "plt.show()\n"
   ]
  }
 ],
 "metadata": {
  "colab": {
   "provenance": []
  },
  "kernelspec": {
   "display_name": "Python 3 (ipykernel)",
   "language": "python",
   "name": "python3"
  },
  "language_info": {
   "codemirror_mode": {
    "name": "ipython",
    "version": 3
   },
   "file_extension": ".py",
   "mimetype": "text/x-python",
   "name": "python",
   "nbconvert_exporter": "python",
   "pygments_lexer": "ipython3",
   "version": "3.11.5"
  }
 },
 "nbformat": 4,
 "nbformat_minor": 4
}
